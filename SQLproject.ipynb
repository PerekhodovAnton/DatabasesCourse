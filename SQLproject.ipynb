{
 "cells": [
  {
   "cell_type": "markdown",
   "metadata": {},
   "source": [
    "# Красивая структура бд (1 балл)"
   ]
  },
  {
   "cell_type": "markdown",
   "metadata": {},
   "source": [
    "### Сначала мы спроектировали БД для накопления инфомарции по взаимодействию с чат-ботом\n",
    "\n",
    "![alt text](db.drawio.png \"Database\")"
   ]
  },
  {
   "cell_type": "markdown",
   "metadata": {},
   "source": [
    "### Далее создали и запустил докер-контейнер PostgreSQL командой\n",
    "\n",
    "```bash\n",
    "docker run -p 5432:5432 --name hse_postgres -e POSTGRES_PASSWORD=sql -d postgres\n",
    "```\n",
    "\n",
    "`-p 5432:5432 `: маппинг порта докера и внешнего порта для соединения с контейнером  \n",
    "`--name hse_postgres`: название контейнера  \n",
    "`-e POSTGRES_PASSWORD=sql`: пароль  \n",
    "`postgres`: имя образа  "
   ]
  },
  {
   "cell_type": "markdown",
   "metadata": {},
   "source": [
    "### Затем создали таблицы и внесли свои тестовые данные\n",
    "\n",
    "```sql\n",
    "CREATE TABLE users (\n",
    "    userid INTEGER PRIMARY KEY,\n",
    "    name VARCHAR(255),\n",
    "    type VARCHAR(255)\n",
    ");\n",
    "\n",
    "CREATE TABLE queries (\n",
    "    queryid INTEGER PRIMARY KEY,\n",
    "    message VARCHAR(255),\n",
    "    validity VARCHAR(255),\n",
    "    date_time TIMESTAMP,\n",
    "    userid INTEGER,\n",
    "    FOREIGN KEY (userid) REFERENCES users(userid)\n",
    ");\n",
    "\n",
    "CREATE TABLE responses (\n",
    "    responseid INTEGER PRIMARY KEY, \n",
    "    text VARCHAR(255), \n",
    "    date_time TIMESTAMP,\n",
    "    queryid INTEGER, \n",
    "    FOREIGN KEY (queryid) REFERENCES queries(queryid));\n",
    "```"
   ]
  },
  {
   "cell_type": "markdown",
   "metadata": {},
   "source": [
    "#  Скрипт на языке программирования (не SQL!) с обращением к БД (1 балл)"
   ]
  },
  {
   "cell_type": "markdown",
   "metadata": {},
   "source": [
    "### Подключимся к БД через python, чтобы наглядно выполнить проектные задания \n"
   ]
  },
  {
   "cell_type": "code",
   "execution_count": null,
   "metadata": {},
   "outputs": [],
   "source": [
    "# установим базовую библиотеку для работы с postgres и визуализации\n",
    "pip install psycopg2"
   ]
  },
  {
   "cell_type": "code",
   "execution_count": 1,
   "metadata": {},
   "outputs": [],
   "source": [
    "# Подключаемся к БД \n",
    "import psycopg2\n",
    "\n",
    "conn = psycopg2.connect(\n",
    "    dbname='postgres',\n",
    "    user='postgres',\n",
    "    password='sql',\n",
    "    host='localhost'\n",
    "    )\n",
    "\n",
    "conn.autocommit = True # поставлю True, чтобы не делать каждый раз commit, если буду что-то менять\n",
    "cursor = conn.cursor() "
   ]
  },
  {
   "cell_type": "markdown",
   "metadata": {},
   "source": [
    "# Тестовые данные и запросы Антона"
   ]
  },
  {
   "cell_type": "markdown",
   "metadata": {},
   "source": [
    "### Дополнительные тестовые данные\n",
    "Для выполнения запросов я сгенерировал тестовые данные.\n",
    "\n",
    "Запросы можно выполнять и в командной строке через psql, выполнив команду: \n",
    "```bash\n",
    "docker exec -it hse_postgres psql -U postgres\n",
    "```\n",
    "Но мне удобнее использовать **PgAdmin 4**\n",
    "```sql\n",
    "INSERT INTO users (userid, name, type) VALUES\n",
    "    (0, 'Anton', 'admin')\n",
    "    (1, 'John', 'user'),\n",
    "    (2, 'Maria', 'moderator'),\n",
    "    (3, 'Anna', 'user'),\n",
    "    (4, 'Peter', 'admin'),\n",
    "    (5, 'Sophia', 'user'),\n",
    "    (6, 'Michael', 'moderator'),\n",
    "    (7, 'Emma', 'user'),\n",
    "    (8, 'Alexander', 'admin'),\n",
    "    (9, 'Olivia', 'moderator'),\n",
    "    (10, 'William', 'user');\n",
    "\n",
    "INSERT INTO queries (queryid, message, validity, date_time, userid) VALUES\n",
    "    (0, 'test_text', 'valid', '2024-03-17 13:57:45', (select userid from users where name = 'Anton')),\n",
    "    (1, 'Another test message', 'valid', '2024-03-17 14:30:00', 1),\n",
    "    (2, 'Yet another test message', 'invalid', '2024-03-17 15:00:00', 2),\n",
    "    (3, 'Query 3', 'valid', '2024-03-17 16:30:00', 3),\n",
    "    (4, 'Query 4', 'invalid', '2024-03-17 17:00:00', 4),\n",
    "    (5, 'Query 5', 'valid', '2024-03-17 18:00:00', 5),\n",
    "    (6, 'Query 6', 'invalid', '2024-03-17 19:00:00', 6),\n",
    "    (7, 'Query 7', 'valid', '2024-03-17 20:00:00', 7),\n",
    "    (8, 'Query 8', 'invalid', '2024-03-17 21:00:00', 8),\n",
    "    (9, 'Query 9', 'valid', '2024-03-17 22:00:00', 9),\n",
    "    (10, 'Query 10', 'invalid', '2024-03-17 23:00:00', 10);\n",
    "\n",
    "INSERT INTO responses (responseid, text, date_time, queryid) VALUES\n",
    "    (0, 'test_response', '2024-03-17 13:57:45', (select queryid from queries where message = 'test_text'))\n",
    "    (1, 'Another test response', '2024-03-17 14:35:00', 1),\n",
    "    (2, 'Yet another test response', '2024-03-17 15:05:00', 2),\n",
    "    (3, 'Response 3', '2024-03-17 16:35:00', 3),\n",
    "    (4, 'Response 4', '2024-03-17 17:05:00', 4),\n",
    "    (5, 'Response 5', '2024-03-17 18:05:00', 5),\n",
    "    (6, 'Response 6', '2024-03-17 19:05:00', 6),\n",
    "    (7, 'Response 7', '2024-03-17 20:05:00', 7),\n",
    "    (8, 'Response 8', '2024-03-17 21:05:00', 8),\n",
    "    (9, 'Response 9', '2024-03-17 22:05:00', 9),\n",
    "    (10, 'Response 10', '2024-03-17 23:05:00', 10);\n",
    "\n",
    "```"
   ]
  },
  {
   "cell_type": "markdown",
   "metadata": {},
   "source": [
    "# Where с объединением трёх таблиц в where (без использования join!) (0.4 балла)"
   ]
  },
  {
   "cell_type": "code",
   "execution_count": null,
   "metadata": {},
   "outputs": [
    {
     "name": "stdout",
     "output_type": "stream",
     "text": [
      "(0, 'Anton', 'admin', 0, 'test_text', 'valid', datetime.datetime(2024, 3, 17, 13, 57, 45), 0, 0, 'test_response', datetime.datetime(2024, 3, 17, 13, 57, 45), 0)\n"
     ]
    }
   ],
   "source": [
    "sql = '''SELECT *\n",
    "FROM users, queries, responses\n",
    "WHERE users.userid = queries.userid\n",
    "AND queries.queryid = responses.queryid\n",
    "AND users.name = 'Anton';\n",
    " '''\n",
    "  \n",
    "cursor.execute(sql)\n",
    "\n",
    "for table in cursor.fetchall():\n",
    "    print(table)"
   ]
  },
  {
   "cell_type": "markdown",
   "metadata": {},
   "source": [
    "# Вложенный select (1 балл):"
   ]
  },
  {
   "cell_type": "code",
   "execution_count": null,
   "metadata": {},
   "outputs": [
    {
     "name": "stdout",
     "output_type": "stream",
     "text": [
      "(9, 'Olivia', 'moderator')\n",
      "(7, 'Emma', 'user')\n",
      "(0, 'Anton', 'admin')\n",
      "(1, 'John', 'user')\n",
      "(3, 'Anna', 'user')\n",
      "(5, 'Sophia', 'user')\n"
     ]
    }
   ],
   "source": [
    "# Пример вложенного запроса:\n",
    "\n",
    "sql = '''SELECT *\n",
    "FROM users\n",
    "WHERE userid IN (SELECT userid FROM queries WHERE validity = 'valid');\n",
    "'''\n",
    "  \n",
    "cursor.execute(sql)\n",
    "\n",
    "for table in cursor.fetchall():\n",
    "    print(table)"
   ]
  },
  {
   "cell_type": "code",
   "execution_count": null,
   "metadata": {},
   "outputs": [
    {
     "name": "stdout",
     "output_type": "stream",
     "text": [
      "(1, 'John', 'user')\n"
     ]
    }
   ],
   "source": [
    "# Пример запроса, который нельзя переписать без вложенного запроса:\n",
    "sql = '''SELECT *\n",
    "FROM users\n",
    "WHERE name = (SELECT name FROM users WHERE userid = 1);\n",
    "'''\n",
    "  \n",
    "cursor.execute(sql)\n",
    "\n",
    "for table in cursor.fetchall():\n",
    "    print(table)"
   ]
  },
  {
   "cell_type": "code",
   "execution_count": null,
   "metadata": {},
   "outputs": [
    {
     "name": "stdout",
     "output_type": "stream",
     "text": [
      "(0, 'Anton', 'admin', 1)\n",
      "(1, 'John', 'user', 1)\n",
      "(2, 'Maria', 'moderator', 1)\n",
      "(3, 'Anna', 'user', 1)\n",
      "(4, 'Peter', 'admin', 1)\n",
      "(5, 'Sophia', 'user', 1)\n",
      "(6, 'Michael', 'moderator', 1)\n",
      "(7, 'Emma', 'user', 1)\n",
      "(8, 'Alexander', 'admin', 1)\n",
      "(9, 'Olivia', 'moderator', 1)\n",
      "(10, 'William', 'user', 1)\n"
     ]
    }
   ],
   "source": [
    "# Пример вложенного запроса с использованием WITH:\n",
    "sql = '''WITH user_queries AS (\n",
    "    SELECT userid, COUNT(*) AS num_queries\n",
    "    FROM queries\n",
    "    GROUP BY userid\n",
    ")\n",
    "SELECT u.userid, u.name, u.type, uq.num_queries\n",
    "FROM users u\n",
    "JOIN user_queries uq ON u.userid = uq.userid;;\n",
    "'''\n",
    "  \n",
    "cursor.execute(sql)\n",
    "\n",
    "for table in cursor.fetchall():\n",
    "    print(table)"
   ]
  },
  {
   "cell_type": "markdown",
   "metadata": {},
   "source": [
    "# Join (1 балл)"
   ]
  },
  {
   "cell_type": "code",
   "execution_count": null,
   "metadata": {},
   "outputs": [
    {
     "name": "stdout",
     "output_type": "stream",
     "text": [
      "(0, 'Anton', 'admin', 0, 'test_text', 'valid', datetime.datetime(2024, 3, 17, 13, 57, 45), 0)\n",
      "(1, 'John', 'user', 1, 'Another test message', 'valid', datetime.datetime(2024, 3, 17, 14, 30), 1)\n",
      "(2, 'Maria', 'moderator', 2, 'Yet another test message', 'invalid', datetime.datetime(2024, 3, 17, 15, 0), 2)\n",
      "(3, 'Anna', 'user', 3, 'Query 3', 'valid', datetime.datetime(2024, 3, 17, 16, 30), 3)\n",
      "(4, 'Peter', 'admin', 4, 'Query 4', 'invalid', datetime.datetime(2024, 3, 17, 17, 0), 4)\n",
      "(5, 'Sophia', 'user', 5, 'Query 5', 'valid', datetime.datetime(2024, 3, 17, 18, 0), 5)\n",
      "(6, 'Michael', 'moderator', 6, 'Query 6', 'invalid', datetime.datetime(2024, 3, 17, 19, 0), 6)\n",
      "(7, 'Emma', 'user', 7, 'Query 7', 'valid', datetime.datetime(2024, 3, 17, 20, 0), 7)\n",
      "(8, 'Alexander', 'admin', 8, 'Query 8', 'invalid', datetime.datetime(2024, 3, 17, 21, 0), 8)\n",
      "(9, 'Olivia', 'moderator', 9, 'Query 9', 'valid', datetime.datetime(2024, 3, 17, 22, 0), 9)\n",
      "(10, 'William', 'user', 10, 'Query 10', 'invalid', datetime.datetime(2024, 3, 17, 23, 0), 10)\n"
     ]
    }
   ],
   "source": [
    "sql = '''SELECT *\n",
    "FROM users\n",
    "LEFT JOIN queries ON users.userid = queries.userid;\n",
    "'''\n",
    "  \n",
    "cursor.execute(sql)\n",
    "\n",
    "for table in cursor.fetchall():\n",
    "    print(table)"
   ]
  },
  {
   "cell_type": "markdown",
   "metadata": {},
   "source": [
    "# Агрегация: group by, order by, аггрегация в результирующих полях (0.5):"
   ]
  },
  {
   "cell_type": "code",
   "execution_count": null,
   "metadata": {},
   "outputs": [
    {
     "name": "stdout",
     "output_type": "stream",
     "text": [
      "(4, 1)\n",
      "(0, 1)\n",
      "(10, 1)\n",
      "(6, 1)\n",
      "(2, 1)\n",
      "(9, 1)\n",
      "(7, 1)\n",
      "(3, 1)\n",
      "(1, 1)\n",
      "(5, 1)\n",
      "(8, 1)\n"
     ]
    }
   ],
   "source": [
    "sql = '''SELECT userid, COUNT(*) AS num_queries\n",
    "FROM queries\n",
    "GROUP BY userid\n",
    "ORDER BY num_queries DESC;\n",
    "'''\n",
    "  \n",
    "cursor.execute(sql)\n",
    "\n",
    "for table in cursor.fetchall():\n",
    "    print(table)"
   ]
  },
  {
   "cell_type": "markdown",
   "metadata": {},
   "source": [
    "# Оконные функции (0.5 балла)"
   ]
  },
  {
   "cell_type": "code",
   "execution_count": null,
   "metadata": {},
   "outputs": [
    {
     "name": "stdout",
     "output_type": "stream",
     "text": [
      "(0, 'Anton', 'admin', 1)\n",
      "(1, 'John', 'user', 2)\n",
      "(2, 'Maria', 'moderator', 3)\n",
      "(3, 'Anna', 'user', 4)\n",
      "(4, 'Peter', 'admin', 5)\n",
      "(5, 'Sophia', 'user', 6)\n",
      "(6, 'Michael', 'moderator', 7)\n",
      "(7, 'Emma', 'user', 8)\n",
      "(8, 'Alexander', 'admin', 9)\n",
      "(9, 'Olivia', 'moderator', 10)\n",
      "(10, 'William', 'user', 11)\n"
     ]
    }
   ],
   "source": [
    "sql = '''SELECT *,\n",
    "       ROW_NUMBER() OVER(ORDER BY userid) AS row_num\n",
    "FROM users;\n",
    "'''\n",
    "  \n",
    "cursor.execute(sql)\n",
    "\n",
    "for table in cursor.fetchall():\n",
    "    print(table)"
   ]
  },
  {
   "cell_type": "markdown",
   "metadata": {},
   "source": [
    "# Тестовые данные и запросы Полины"
   ]
  },
  {
   "cell_type": "markdown",
   "metadata": {},
   "source": [
    "### Дополнительные тестовые данные\n",
    "Для выполнения запросов я сгенерировала тестовые данные\n",
    "```sql\n",
    "INSERT INTO users (userid, name, type) VALUES\n",
    "    (0, 'SnowflakeAnton92', 'admin'),\n",
    "    (1, 'IcyIvan88', 'user'),\n",
    "    (2, 'MariyaMagic22', 'moderator'),\n",
    "    (3, 'AnnaAurora37', 'user'),\n",
    "    (4, 'PetrPolarBear55', 'admin'),\n",
    "    (5, 'SofiyaSnowstorm19', 'user'),\n",
    "    (6, 'MikhailMoonlight81', 'moderator'),\n",
    "    (7, 'YekaterinaFrostbite26', 'user'),\n",
    "    (8, 'AleksandrArcticFox10', 'admin'),\n",
    "    (9, 'OlgaBlizzard73', 'moderator'),\n",
    "    (10, 'VladimirIceberg47', 'user');\n",
    "\n",
    "\n",
    "INSERT INTO queries (queryid, message, validity, date_time, userid) VALUES\n",
    "    (0, 'Is two plus two equal to four?', 'valid', '2024-03-12 08:21:34', (select userid from users where name = 'SnowflakeAnton92')),\n",
    "    (1, 'Can you tell me about quantum physics?', 'valid', '2024-03-13 10:45:22', 1),\n",
    "    (2, 'Translate \"hello\" to French', 'invalid', '2024-03-14 16:02:58', 2),\n",
    "    (3, 'How does a neural network work?', 'valid', '2024-03-15 20:30:10', 3),\n",
    "    (4, 'Explain the concept of time dilation', 'invalid', '2024-03-16 11:50:45', 4),\n",
    "    (5, 'What are the symptoms of COVID-19?', 'valid', '2024-03-17 14:15:29', 5),\n",
    "    (6, 'Describe the process of photosynthesis', 'invalid', '2024-03-18 09:28:17', 6),\n",
    "    (7, 'Can you summarize \"War and Peace\" by Leo Tolstoy?', 'valid', '2024-03-19 22:42:53', 7),\n",
    "    (8, 'What are the main features of the Python programming language?', 'invalid', '2024-03-20 18:55:41', 8),\n",
    "    (9, 'Explain the concept of black holes in astrophysics', 'valid', '2024-03-21 14:09:27', 9),\n",
    "    (10, 'What is the meaning of life?', 'invalid', '2024-03-22 19:23:14', 10),\n",
    "    (11, 'What is the capital of Australia?','valid','2024-03-22 20:23:14', 10),\n",
    "    (12, 'Who wrote the famous novel \"To Kill a Mockingbird\"?','valid','2024-03-22 21:23:14', 10),\n",
    "    (13, 'What is the chemical symbol for gold?','valid','2024-03-22 22:23:14',10),\n",
    "    (14, 'What year did the Titanic sink?','valid','2024-03-22 23:23:14',10),\n",
    "    (15, 'What is the tallest mountain in the world?','valid','2024-03-23 00:23:14',10);\n",
    "    \n",
    "\n",
    "\n",
    "INSERT INTO responses (responseid, text, date_time, queryid) VALUES\n",
    "    (0, 'Yes', '2024-03-17 13:57:45', (select queryid from queries where message = 'Is two plus two equal to four?'))\n",
    "    (1, 'Quantum physics is a branch of physics that explores the behavior of particles at the smallest scales.', '2024-03-17 14:35:00', 1),\n",
    "    (2, 'Bonjour', '2024-03-17 15:05:00', 2),\n",
    "    (3, 'A neural network is a computational model inspired by the structure and functioning of biological neural networks.', '2024-03-17 16:35:00', 3),\n",
    "    (4, 'Time dilation is a phenomenon predicted by Einsteins theory of relativity.', '2024-03-17 17:05:00', 4),\n",
    "    (5, 'The symptoms of COVID-19 include fever, cough, shortness of breath.', '2024-03-17 18:05:00', 5),\n",
    "    (6, 'Photosynthesis is the process by which green plants convert light energy into chemical energy.', '2024-03-17 19:05:00', 6),\n",
    "    (7, 'War and Peace is a novel by the Russian author Leo Tolstoy, which tells the story of Russian society during the Napoleonic Wars.', '2024-03-17 20:05:00', 7),\n",
    "    (8, 'The main features of the Python programming language include its simplicity, readability, versatility, and extensive standard library.', '2024-03-17 21:05:00', 8),\n",
    "    (9, 'Black holes are regions of spacetime where gravity is so strong that nothing, not even light, can escape from them.', '2024-03-17 22:05:00', 9),\n",
    "    (10, 'The meaning of life is a philosophical question that has been pondered by humans for centuries, with various interpretations and perspectives.', '2024-03-17 23:05:00', 10)\n",
    "    (11, 'Canberra', '2024-03-22 20:23:14', 11),\n",
    "    (12, 'Harper Lee', '2024-03-22 21:23:14', 12),\n",
    "    (13, 'Au', '2024-03-22 22:23:14', 13),\n",
    "    (14, '1912', '2024-03-22 23:23:14', 14),\n",
    "    (15, 'Mount Everest', '2024-03-23 00:23:14', 15);\n",
    "\n",
    "```"
   ]
  },
  {
   "cell_type": "markdown",
   "metadata": {},
   "source": [
    "# Where с объединением трёх таблиц в where (без использования join!) (0.4 балла)"
   ]
  },
  {
   "cell_type": "code",
   "execution_count": 24,
   "metadata": {},
   "outputs": [
    {
     "name": "stdout",
     "output_type": "stream",
     "text": [
      "(1, 'IcyIvan88', 'user', 1, 'Can you tell me about quantum physics?', 'valid', datetime.datetime(2024, 3, 13, 10, 45, 22), 1, 'Quantum physics is a branch of physics that explores the behavior of particles at the smallest scales.', datetime.datetime(2024, 3, 17, 14, 35))\n",
      "(3, 'AnnaAurora37', 'user', 3, 'How does a neural network work?', 'valid', datetime.datetime(2024, 3, 15, 20, 30, 10), 3, 'A neural network is a computational model inspired by the structure and functioning of biological neural networks.', datetime.datetime(2024, 3, 17, 16, 35))\n",
      "(5, 'SofiyaSnowstorm19', 'user', 5, 'What are the symptoms of COVID-19?', 'valid', datetime.datetime(2024, 3, 17, 14, 15, 29), 5, 'The symptoms of COVID-19 include fever, cough, shortness of breath.', datetime.datetime(2024, 3, 17, 18, 5))\n",
      "(7, 'YekaterinaFrostbite26', 'user', 7, 'Can you summarize \"War and Peace\" by Leo Tolstoy?', 'valid', datetime.datetime(2024, 3, 19, 22, 42, 53), 7, 'War and Peace is a novel by the Russian author Leo Tolstoy, which tells the story of Russian society during the Napoleonic Wars.', datetime.datetime(2024, 3, 17, 20, 5))\n",
      "(10, 'VladimirIceberg47', 'user', 10, 'What is the meaning of life?', 'invalid', datetime.datetime(2024, 3, 22, 19, 23, 14), 10, 'The meaning of life is a philosophical question that has been pondered by humans for centuries, with various interpretations and perspectives.', datetime.datetime(2024, 3, 17, 23, 5))\n",
      "(10, 'VladimirIceberg47', 'user', 11, 'What is the capital of Australia?', 'valid', datetime.datetime(2024, 3, 22, 20, 23, 14), 11, 'Canberra', datetime.datetime(2024, 3, 22, 20, 23, 14))\n",
      "(10, 'VladimirIceberg47', 'user', 12, 'Who wrote the famous novel \"To Kill a Mockingbird\"?', 'valid', datetime.datetime(2024, 3, 22, 21, 23, 14), 12, 'Harper Lee', datetime.datetime(2024, 3, 22, 21, 23, 14))\n",
      "(10, 'VladimirIceberg47', 'user', 13, 'What is the chemical symbol for gold?', 'valid', datetime.datetime(2024, 3, 22, 22, 23, 14), 13, 'Au', datetime.datetime(2024, 3, 22, 22, 23, 14))\n",
      "(10, 'VladimirIceberg47', 'user', 14, 'What year did the Titanic sink?', 'valid', datetime.datetime(2024, 3, 22, 23, 23, 14), 14, '1912', datetime.datetime(2024, 3, 22, 23, 23, 14))\n",
      "(10, 'VladimirIceberg47', 'user', 15, 'What is the tallest mountain in the world?', 'valid', datetime.datetime(2024, 3, 23, 0, 23, 14), 15, 'Mount Everest', datetime.datetime(2024, 3, 23, 0, 23, 14))\n"
     ]
    }
   ],
   "source": [
    "#Выведем всю информацию по запросам пользователей с типом \"user\"\n",
    "sql = '''SELECT \n",
    "    users.userid,\n",
    "    users.name AS username,\n",
    "    users.type AS usertype,\n",
    "    queries.queryid,\n",
    "    queries.message AS query_message,\n",
    "    queries.validity AS query_validity,\n",
    "    queries.date_time AS query_datetime,\n",
    "    responses.responseid,\n",
    "    responses.text AS response_text,\n",
    "    responses.date_time AS response_datetime\n",
    "FROM \n",
    "    users,\n",
    "    queries,\n",
    "    responses\n",
    "WHERE \n",
    "    queries.userid = users.userid\n",
    "    AND responses.queryid = queries.queryid\n",
    "\tAND users.type = 'user';\n",
    " '''\n",
    "  \n",
    "cursor.execute(sql)\n",
    "\n",
    "for table in cursor.fetchall():\n",
    "    print(table)"
   ]
  },
  {
   "cell_type": "markdown",
   "metadata": {},
   "source": [
    "# Вложенный select (1 балл):"
   ]
  },
  {
   "cell_type": "code",
   "execution_count": 25,
   "metadata": {},
   "outputs": [
    {
     "name": "stdout",
     "output_type": "stream",
     "text": [
      "('MikhailMoonlight81', 'moderator')\n",
      "('YekaterinaFrostbite26', 'user')\n",
      "('AleksandrArcticFox10', 'admin')\n",
      "('OlgaBlizzard73', 'moderator')\n",
      "('VladimirIceberg47', 'user')\n"
     ]
    }
   ],
   "source": [
    "# Выведем всех пользователей, отправивших запросы после 2024-03-17 18:00:00\n",
    "\n",
    "sql = '''SELECT name, type\n",
    "FROM users\n",
    "WHERE userid IN (SELECT userid FROM queries WHERE date_time > '2024-03-17 18:00:00');\n",
    "\n",
    "'''\n",
    "  \n",
    "cursor.execute(sql)\n",
    "\n",
    "for table in cursor.fetchall():\n",
    "    print(table)"
   ]
  },
  {
   "cell_type": "code",
   "execution_count": 26,
   "metadata": {},
   "outputs": [
    {
     "name": "stdout",
     "output_type": "stream",
     "text": [
      "('SnowflakeAnton92', 'admin', 1)\n",
      "('IcyIvan88', 'user', 1)\n",
      "('MariyaMagic22', 'moderator', 1)\n",
      "('AnnaAurora37', 'user', 1)\n",
      "('PetrPolarBear55', 'admin', 1)\n",
      "('SofiyaSnowstorm19', 'user', 1)\n",
      "('MikhailMoonlight81', 'moderator', 1)\n",
      "('YekaterinaFrostbite26', 'user', 1)\n",
      "('AleksandrArcticFox10', 'admin', 1)\n",
      "('OlgaBlizzard73', 'moderator', 1)\n",
      "('VladimirIceberg47', 'user', 6)\n"
     ]
    }
   ],
   "source": [
    "# Выведем сколько запросов у каждого пользователя\n",
    "sql = '''SELECT \n",
    "    name,\n",
    "    type,\n",
    "    (SELECT COUNT(*) FROM queries WHERE userid = users.userid) AS total_queries\n",
    "FROM users;\n",
    "\n",
    "'''\n",
    "  \n",
    "cursor.execute(sql)\n",
    "\n",
    "for table in cursor.fetchall():\n",
    "    print(table)"
   ]
  },
  {
   "cell_type": "code",
   "execution_count": 27,
   "metadata": {},
   "outputs": [
    {
     "name": "stdout",
     "output_type": "stream",
     "text": [
      "('Is two plus two equal to four?', 'Yes')\n",
      "('Can you tell me about quantum physics?', 'Quantum physics is a branch of physics that explores the behavior of particles at the smallest scales.')\n",
      "('Translate \"hello\" to French', 'Bonjour')\n",
      "('How does a neural network work?', 'A neural network is a computational model inspired by the structure and functioning of biological neural networks.')\n",
      "('Explain the concept of time dilation', 'Time dilation is a phenomenon predicted by Einsteins theory of relativity.')\n",
      "('What are the symptoms of COVID-19?', 'The symptoms of COVID-19 include fever, cough, shortness of breath.')\n",
      "('Describe the process of photosynthesis', 'Photosynthesis is the process by which green plants convert light energy into chemical energy.')\n",
      "('Can you summarize \"War and Peace\" by Leo Tolstoy?', 'War and Peace is a novel by the Russian author Leo Tolstoy, which tells the story of Russian society during the Napoleonic Wars.')\n",
      "('What are the main features of the Python programming language?', 'The main features of the Python programming language include its simplicity, readability, versatility, and extensive standard library.')\n",
      "('Explain the concept of black holes in astrophysics', 'Black holes are regions of spacetime where gravity is so strong that nothing, not even light, can escape from them.')\n",
      "('What is the meaning of life?', 'The meaning of life is a philosophical question that has been pondered by humans for centuries, with various interpretations and perspectives.')\n",
      "('What is the capital of Australia?', 'Canberra')\n",
      "('Who wrote the famous novel \"To Kill a Mockingbird\"?', 'Harper Lee')\n",
      "('What is the chemical symbol for gold?', 'Au')\n",
      "('What year did the Titanic sink?', '1912')\n",
      "('What is the tallest mountain in the world?', 'Mount Everest')\n"
     ]
    }
   ],
   "source": [
    "# Пример вложенного запроса с использованием WITH:\n",
    "# Выведем запрос и ответ на него\n",
    "sql = '''WITH UserQueries AS (\n",
    "    SELECT q.message AS query_message, r.text AS response_text\n",
    "    FROM queries q\n",
    "    INNER JOIN responses r ON q.queryid = r.queryid\n",
    ")\n",
    "SELECT *\n",
    "FROM UserQueries;\n",
    "\n",
    "'''\n",
    "  \n",
    "cursor.execute(sql)\n",
    "\n",
    "for table in cursor.fetchall():\n",
    "    print(table)"
   ]
  },
  {
   "cell_type": "markdown",
   "metadata": {},
   "source": [
    "# Join (1 балл)"
   ]
  },
  {
   "cell_type": "code",
   "execution_count": 50,
   "metadata": {},
   "outputs": [
    {
     "name": "stdout",
     "output_type": "stream",
     "text": [
      "('SnowflakeAnton92', 'Is two plus two equal to four?', 'Yes')\n",
      "('IcyIvan88', 'Can you tell me about quantum physics?', 'Quantum physics is a branch of physics that explores the behavior of particles at the smallest scales.')\n",
      "('AnnaAurora37', 'How does a neural network work?', 'A neural network is a computational model inspired by the structure and functioning of biological neural networks.')\n",
      "('SofiyaSnowstorm19', 'What are the symptoms of COVID-19?', 'The symptoms of COVID-19 include fever, cough, shortness of breath.')\n",
      "('YekaterinaFrostbite26', 'Can you summarize \"War and Peace\" by Leo Tolstoy?', 'War and Peace is a novel by the Russian author Leo Tolstoy, which tells the story of Russian society during the Napoleonic Wars.')\n",
      "('OlgaBlizzard73', 'Explain the concept of black holes in astrophysics', 'Black holes are regions of spacetime where gravity is so strong that nothing, not even light, can escape from them.')\n",
      "('VladimirIceberg47', 'What is the capital of Australia?', 'Canberra')\n",
      "('VladimirIceberg47', 'Who wrote the famous novel \"To Kill a Mockingbird\"?', 'Harper Lee')\n",
      "('VladimirIceberg47', 'What is the chemical symbol for gold?', 'Au')\n",
      "('VladimirIceberg47', 'What year did the Titanic sink?', '1912')\n",
      "('VladimirIceberg47', 'What is the tallest mountain in the world?', 'Mount Everest')\n"
     ]
    }
   ],
   "source": [
    "sql = '''SELECT u.name AS username, q.message AS query_message, r.text AS response_text\n",
    "FROM users u\n",
    "JOIN queries q ON u.userid = q.userid\n",
    "JOIN responses r ON q.queryid = r.queryid\n",
    "WHERE q.validity = 'valid';\n",
    "'''\n",
    "  \n",
    "cursor.execute(sql)\n",
    "\n",
    "for table in cursor.fetchall():\n",
    "    print(table)"
   ]
  },
  {
   "cell_type": "markdown",
   "metadata": {},
   "source": [
    "# Агрегация: group by, order by, аггрегация в результирующих полях (0.5):"
   ]
  },
  {
   "cell_type": "code",
   "execution_count": 52,
   "metadata": {},
   "outputs": [
    {
     "name": "stdout",
     "output_type": "stream",
     "text": [
      "('AleksandrArcticFox10', Decimal('62.0000000000000000'))\n"
     ]
    }
   ],
   "source": [
    "#Запрос, который показывает пользователя, который пишет самые длинные запросы (расчет по средней длине строки-запроса)\n",
    "\n",
    "sql = '''SELECT u.name AS user_name, AVG(CHAR_LENGTH(q.message)) AS avg_query_length\n",
    "FROM users u\n",
    "JOIN queries q ON u.userid = q.userid\n",
    "GROUP BY u.userid, u.name\n",
    "ORDER BY avg_query_length DESC\n",
    "LIMIT 1;\n",
    "'''\n",
    "  \n",
    "cursor.execute(sql)\n",
    "\n",
    "for table in cursor.fetchall():\n",
    "    print(table)"
   ]
  },
  {
   "cell_type": "code",
   "execution_count": 51,
   "metadata": {},
   "outputs": [
    {
     "name": "stdout",
     "output_type": "stream",
     "text": [
      "(10, 'VladimirIceberg47', 6)\n"
     ]
    }
   ],
   "source": [
    "# Выведем пользователей, которые отправили > 1 запроса\n",
    "sql = '''SELECT u.userid, u.name, COUNT(q.queryid) \n",
    "FROM users u\n",
    "INNER JOIN queries q ON u.userid = q.userid\n",
    "GROUP BY u.userid, u.name\n",
    "HAVING COUNT(q.queryid) > 1;\n",
    "'''\n",
    "\n",
    "cursor.execute(sql)\n",
    "\n",
    "for table in cursor.fetchall():\n",
    "    print(table)"
   ]
  },
  {
   "cell_type": "markdown",
   "metadata": {},
   "source": [
    "# Оконные функции (0.5 балла)"
   ]
  },
  {
   "cell_type": "code",
   "execution_count": 49,
   "metadata": {},
   "outputs": [
    {
     "name": "stdout",
     "output_type": "stream",
     "text": [
      "(0, 'SnowflakeAnton92', 1)\n",
      "(1, 'IcyIvan88', 1)\n",
      "(3, 'AnnaAurora37', 1)\n",
      "(5, 'SofiyaSnowstorm19', 1)\n",
      "(7, 'YekaterinaFrostbite26', 1)\n",
      "(9, 'OlgaBlizzard73', 1)\n",
      "(10, 'VladimirIceberg47', 5)\n"
     ]
    }
   ],
   "source": [
    "#запрос показывает, сколько запросов с типом valid у каждого пользователя\n",
    "sql = '''WITH UserValidQueryCounts AS (\n",
    "    SELECT u.userid, u.name, q.validity,\n",
    "           COUNT(*) OVER (PARTITION BY u.userid) AS total_queries,\n",
    "           COUNT(*) FILTER (WHERE q.validity = 'valid') OVER (PARTITION BY u.userid) AS valid_queries_count\n",
    "    FROM users u\n",
    "    LEFT JOIN queries q ON u.userid = q.userid\n",
    ")\n",
    "SELECT DISTINCT userid, name, valid_queries_count\n",
    "FROM UserValidQueryCounts\n",
    "WHERE valid_queries_count > 0\n",
    "ORDER BY userid;\n",
    "'''\n",
    "  \n",
    "cursor.execute(sql)\n",
    "\n",
    "for table in cursor.fetchall():\n",
    "    print(table)"
   ]
  },
  {
   "cell_type": "markdown",
   "metadata": {},
   "source": [
    "# Мы создали docker-compose и файл, инициализирующий БД init.sql"
   ]
  },
  {
   "cell_type": "markdown",
   "metadata": {},
   "source": [
    "# Docker (1 балл)\n",
    "\n",
    "Создан файл docker-compose.yaml\n",
    "\n",
    "```yaml\n",
    "version: '3.9'\n",
    "\n",
    "services:\n",
    "  db:\n",
    "    image: postgres\n",
    "    restart: always\n",
    "    environment:\n",
    "      POSTGRES_PASSWORD: sql\n",
    "    ports:\n",
    "      - \"5432:5432\"\n",
    "    volumes:\n",
    "      - ./init.sql:/docker-entrypoint-initdb.d/init.sql\n",
    "```\n",
    "`init.sql` - необходим для того, чтобы задать код для инициализации базы данных (код указан в самом начале: создание таблиц и наполнение их тестовыми данными)\n",
    "\n",
    "Поместить этот файл в ту же директорию, где находится docker-compose.yml. Затем выполнить команду docker-compose up -d, чтобы запустить контейнер"
   ]
  },
  {
   "cell_type": "markdown",
   "metadata": {},
   "source": [
    "# Связанное решение в серверной sql-базе данных (1 балл), Знания, выходящие за рамки курса - 0.6 балла\n",
    "Почему был выбран Postgres? Нам понравился тот факт, что для данной БД есть удобные асинхронные библиотеки, чтобы делать производительные сервисы, поэтому было принято решение: попробовать реализовать чат-бот, используя стек: `fastapi` + `asyncpg`\n",
    "Мы немного изменили БД для создания api и вставки данных в БД, т.к. в \"игрушечной\" версии id для полей мы прописывали сами. В сервисной реализации это будут автоинкременты BIGSERIAL. Более подробно в init.sql"
   ]
  },
  {
   "cell_type": "markdown",
   "metadata": {},
   "source": [
    "Установим asyncpg. Можно было бы использовать SQLAlchemy, но это ORM со специфическим синтаксисом, поэтому решили попробовать asyncpg"
   ]
  },
  {
   "cell_type": "code",
   "execution_count": 7,
   "metadata": {},
   "outputs": [
    {
     "name": "stdout",
     "output_type": "stream",
     "text": [
      "Requirement already satisfied: asyncpg in /Users/anper/Documents/DB/MySQL/.venv/lib/python3.9/site-packages (0.29.0)\n",
      "Collecting asyncio\n",
      "  Downloading asyncio-3.4.3-py3-none-any.whl (101 kB)\n",
      "\u001b[K     |████████████████████████████████| 101 kB 1.6 MB/s ta 0:00:01\n",
      "\u001b[?25hRequirement already satisfied: async-timeout>=4.0.3 in /Users/anper/Documents/DB/MySQL/.venv/lib/python3.9/site-packages (from asyncpg) (4.0.3)\n",
      "Installing collected packages: asyncio\n",
      "Successfully installed asyncio-3.4.3\n",
      "\u001b[33mWARNING: You are using pip version 21.2.4; however, version 24.0 is available.\n",
      "You should consider upgrading via the '/Users/anper/Documents/DB/MySQL/.venv/bin/python -m pip install --upgrade pip' command.\u001b[0m\n",
      "Note: you may need to restart the kernel to use updated packages.\n"
     ]
    }
   ],
   "source": [
    "pip install asyncpg asyncio fastapi uvicorn"
   ]
  },
  {
   "cell_type": "markdown",
   "metadata": {},
   "source": [
    "Далее код в main.py"
   ]
  }
 ],
 "metadata": {
  "kernelspec": {
   "display_name": ".venv",
   "language": "python",
   "name": "python3"
  },
  "language_info": {
   "codemirror_mode": {
    "name": "ipython",
    "version": 3
   },
   "file_extension": ".py",
   "mimetype": "text/x-python",
   "name": "python",
   "nbconvert_exporter": "python",
   "pygments_lexer": "ipython3",
   "version": "3.11.7"
  }
 },
 "nbformat": 4,
 "nbformat_minor": 2
}
